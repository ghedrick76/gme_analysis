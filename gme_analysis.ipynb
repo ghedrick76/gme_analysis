{
 "cells": [
  {
   "cell_type": "code",
   "execution_count": 8,
   "id": "f93b9246-518a-4b44-8037-9e1a5af5c827",
   "metadata": {},
   "outputs": [],
   "source": [
    "import yfinance as yf"
   ]
  },
  {
   "cell_type": "code",
   "execution_count": 11,
   "id": "e3aa0931-962a-4bdf-9baa-e1f039b9c9f1",
   "metadata": {},
   "outputs": [],
   "source": [
    "msft = yf.Ticker(\"MSFT\")\n",
    "amzn = yf.Ticker(\"AMZN\")\n",
    "meta = yf.Ticker(\"META\")\n",
    "gme = yf.Ticker(\"GME\")\n",
    "spy = yf.Ticker(\"SPY\")"
   ]
  },
  {
   "cell_type": "code",
   "execution_count": null,
   "id": "b06f3bd2-3060-40a9-a44a-2796b272349d",
   "metadata": {},
   "outputs": [],
   "source": [
    "msft"
   ]
  }
 ],
 "metadata": {
  "kernelspec": {
   "display_name": "Python 3 (ipykernel)",
   "language": "python",
   "name": "python3"
  },
  "language_info": {
   "codemirror_mode": {
    "name": "ipython",
    "version": 3
   },
   "file_extension": ".py",
   "mimetype": "text/x-python",
   "name": "python",
   "nbconvert_exporter": "python",
   "pygments_lexer": "ipython3",
   "version": "3.9.7"
  }
 },
 "nbformat": 4,
 "nbformat_minor": 5
}
